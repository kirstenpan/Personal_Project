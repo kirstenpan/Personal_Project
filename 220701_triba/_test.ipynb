{
 "cells": [
  {
   "cell_type": "code",
   "execution_count": null,
   "metadata": {},
   "outputs": [],
   "source": [
    "#list all running windows processes\n",
    "import wmi\n",
    " \n",
    "# Initializing the wmi constructor\n",
    "f = wmi.WMI()\n",
    " \n",
    "# Printing the header for the later columns\n",
    "print(\"pid   \\t Process name\")\n",
    " \n",
    "# Iterating through all the running processes\n",
    "for process in f.Win32_Process():\n",
    "    # Displaying the P_ID and P_Name of the process\n",
    "    # print(f\"{process.ProcessId:<10} {process.Name}\")\n",
    "    if process.Name == 'python.exe':\n",
    "        id = process.ProcessId\n",
    "        print(id, '\\t', process.Name)"
   ]
  },
  {
   "cell_type": "code",
   "execution_count": null,
   "metadata": {},
   "outputs": [],
   "source": [
    "#killing existing processes???"
   ]
  },
  {
   "cell_type": "code",
   "execution_count": 4,
   "metadata": {},
   "outputs": [
    {
     "data": {
      "text/plain": [
       "'{\"detail\":\"Not Found\"}'"
      ]
     },
     "execution_count": 4,
     "metadata": {},
     "output_type": "execute_result"
    }
   ],
   "source": [
    "import requests\n",
    "\n",
    "headers = {\n",
    "    'accept': 'application/json',\n",
    "    'content-type': 'application/x-www-form-urlencoded',\n",
    "}\n",
    "\n",
    "params = {\n",
    "    \"sentence\":\"ciao\"\n",
    "}\n",
    "\n",
    "response = requests.post('http://127.0.0.1:3000/startup', headers=headers) #, params=params)\n",
    "response.text"
   ]
  }
 ],
 "metadata": {
  "kernelspec": {
   "display_name": "Python 3.9.0 64-bit",
   "language": "python",
   "name": "python3"
  },
  "language_info": {
   "codemirror_mode": {
    "name": "ipython",
    "version": 3
   },
   "file_extension": ".py",
   "mimetype": "text/x-python",
   "name": "python",
   "nbconvert_exporter": "python",
   "pygments_lexer": "ipython3",
   "version": "3.9.0"
  },
  "orig_nbformat": 4,
  "vscode": {
   "interpreter": {
    "hash": "fdf377d643bc1cb065454f0ad2ceac75d834452ecf289e7ba92c6b3f59a7cee1"
   }
  }
 },
 "nbformat": 4,
 "nbformat_minor": 2
}
