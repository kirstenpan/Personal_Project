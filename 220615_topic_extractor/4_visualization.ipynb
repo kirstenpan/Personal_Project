{
 "cells": [
  {
   "cell_type": "markdown",
   "metadata": {},
   "source": [
    "Step 1: Import the library"
   ]
  },
  {
   "cell_type": "code",
   "execution_count": 1,
   "metadata": {},
   "outputs": [
    {
     "name": "stderr",
     "output_type": "stream",
     "text": [
      "c:\\Users\\kaypa\\AppData\\Local\\Programs\\Python\\Python39\\lib\\site-packages\\numba\\core\\errors.py:175: UserWarning: Insufficiently recent colorama version found. Numba requires colorama >= 0.3.9\n",
      "  warnings.warn(msg)\n"
     ]
    }
   ],
   "source": [
    "import os\n",
    "PATH = 'C:/Users/kaypa/OneDrive/Documents/GitHub/Personal_Project/220615_topic_extractor'\n",
    "\n",
    "#import rest of the libraries to execute this .py\n",
    "import umap\n",
    "import matplotlib.pyplot as plt\n",
    "import pandas as pd"
   ]
  },
  {
   "cell_type": "markdown",
   "metadata": {},
   "source": [
    "Strep 2: Dimension Reduction"
   ]
  },
  {
   "cell_type": "code",
   "execution_count": 2,
   "metadata": {},
   "outputs": [],
   "source": [
    "#dim reduction\n",
    "umap_embeddings = umap.UMAP(\n",
    "    n_neighbors=22, \n",
    "    n_components=2, \n",
    "    metric='cosine'\n",
    ").fit_transform(df['text_vector_'].values.tolist())"
   ]
  },
  {
   "cell_type": "markdown",
   "metadata": {},
   "source": [
    "Step 3: Visualize the clustering"
   ]
  },
  {
   "cell_type": "code",
   "execution_count": 3,
   "metadata": {},
   "outputs": [
    {
     "data": {
      "application/vnd.plotly.v1+json": {
       "config": {
        "plotlyServerURL": "https://plot.ly"
       },
       "data": [
        {
         "hovertemplate": "<b>%{hovertext}</b><br><br>x=%{x}<br>y=%{y}<br>clusters=%{marker.color}<extra></extra>",
         "hovertext": [
          "Great succinct thread on where we find ourselves in the third year of the pandemic.\n1. Covid will never be endemic. 2. Learning to live with it doesn't mean we leave at risk people behind 3. Address the air problem indoors 4.Vaccines alone don't work. \nhttps://t.co/1cT6RpuNrA",
          "@LizardSF @dandrezner @TheRickWilson Dereliction of duties. No Covid vaccine roll out plan, no Transition Plans, no meeting with the Biden team.  Nothing. Complete and utter dereliction of duty.",
          "What Would a Novavax Covid-19 Vaccine Mean in the US? | News World Express https://t.co/qFsvnKzu21",
          "@middlingobiwan I used to believe that as well. I spent my entire adult life vaccinating people. I wouldn't give my dog the covid vaccine. It should have been recalled after a few deaths. It would have been off the market if we were living during a normal time.",
          "But how would pregnant people access this? 🤔\n\nPregnant people can receive a DTAP vaccine during every pregnancy, at the preferred interval based on fetus age, regardless of their last date of vaccine.\nWhen will we allow pregnant women to make this choice with the covid vaccine? https://t.co/Pap952BbqQ",
          "Cue the anti-vaxxers blaming the covid vaccine for a joint issue I’ve had for many many years.",
          "@NSFWPoliticsNow @noovohreesh @blackbear93 @StrikeDebt @bergeronprocess COVID still here right? What about the testing they stopped doing? What about the vaccine not being free anymore? What about everything that isn't just UE? Also UE being under 4% means nothing when people need 2-3 jobs and still aren't making it. And UE measures are shit anyway.",
          "@Sarah77414568 I'm not COVID vaccinated; but I'm definitely gonna get a smallpox vaccine (87% effective) when &amp; if they become available in NZ , to protect against the dreaded MonkeyPox when it gets here.",
          "@sir19631 @SimonJamesOShea @AnnieIrish68 @BluewoodHomes The vaccines? Yes they most certainly can be and they are shown to only have a 1% efficacy rate after several weeks. Not worth the risk. You're better off getting a mild case of Covid and getting over it to have 10% more immunity",
          "Another interesting slide, this one from @VoiceOfFranky, a poll: if they believe Russia has committed war crimes in Ukraine. Responses depended on how many Covid vaccines the respondents have received.\n\n- 88% of those with 3 vaccines say yes.\n- 32% of vaccines refusers say yes. https://t.co/74Y77eKoIV",
          "@LauraMiers Just so you are aware Laura, the tweet of yours above this one has incorrectly been flagged as misleading\n\nYou are not anti vaccine, &amp; you were simply pointing out that the risk of long COVID is not eliminated by vaccination, it is only reduced \n\nhttps://t.co/hJxsQjx2BP",
          "The FDA is an Epic Fail! FDA Panel Recommends Novavax COVID Vaccine Despite Heart Inflammation Concerns https://t.co/EI1BL61Ul1",
          "Researchers in France –Turkey begun to establish an alarming link between an incurable, degenerative brain disease called Creutzfeldt-Jakob disease (CJD) and the experimental Covid-19 vaccine. CJD is a “rare” disease that is caused by abnormal infectious proteins in the brain\nGP",
          "@NYCHealthCommr Nobody wants this garbage anymore. They keep making them to flush them down the toilet. Millions of COVID vaccines doses have been wasted in the United States according to data from the Centers for Disease Control  \n\nhttps://t.co/RZ1YrxLcHK",
          "And they have the nerve. Biden to go on twitter. At the time he took office know the economy did not stall and covid was not out of control they made the vaccine so you could use it and you lied about that your economic plan is terrible robust recovery are you kidding everybody's",
          "This Major City Just Announced \"High Alert\" Level of COVID\n\n#news #coronavirustips #covidvaccine #coronavirus\nhttps://t.co/I6ysyJ9gbT",
          "So When Will Pandemic \"End\"? Here's What Experts Say\n\n#coronavirus #news #coronavirustips #health #covidvaccine\nhttps://t.co/6gOgAFKqOu",
          "What Would a Novavax Covid-19 Vaccine Mean in the US? https://t.co/wrg3Q0JMv3",
          "@defund_fedgov22's account is temporarily unavailable because it violates the Twitter Media Policy. Learn more.",
          "Comirnaty and Pfizer-BioNTech COVID-19 Vaccine https://t.co/CfZ4x6ZEPl",
          "Moderna says updated COVID booster is superior to original vaccine shots, could begin shipping by August https://t.co/KLVOZLpjoU",
          "@BryanSh12894651 @jordanbpeterson @JustinTrudeau Imagine being so silly to not read to the bill and mae things up as you go. It's restricted to covid measures only. \nOh and hey... if all of those children's vaccines were so important, why does only 2 provinces have them mandated, not ALL provinces.",
          "@bebe1969 @GirlVet1975 My 25 year old is really sick with Covid right now. I’m not super sympathetic, she refused to wear a mask in 2020 and brought it home infecting all of us. Then mocked vaccines while we all got ours. I guess she is finding out how much it sucks to suck.",
          "At the same time the White House is diverting dwindling funds for covid testing, PPE and research to cover shortfalls for vaccines and treatments, Biden is still out encouraging states and localities to direct their covid-related funding to hiring more police https://t.co/VxUJYD0cLZ",
          "Do you think Trump can wait in line like everyone else &amp; not be the first to get the #Monkeypox vaccine like he did with the COVID vaccine? https://t.co/okJZFJliwH",
          "@aaronhoyland 50% of that 90% were coerced into getting the vaccine.  They've now had covid and have buyers remorse and don't like that they were mislead.   The Pfizer data isn't painting a very rosey picture and people who are paying attention are not happy.",
          "Are you telling me that we are going to go to covid again and that the canadian government is aiming to call \"vaccinated\" only the people with 3 vaccines?\n\n#CdnMediaFailed #onpoli #EGO #CovidIsNotOver #TrudeauForTreason",
          "@EdGordonJr He is planning to come back and if he loses we will see the same movie again. This is going to be more of a nightmare than the Covid. And there are no vaccines.",
          "@CHEO @deshaynef @JAMAInternalMed How would pregnant women access this?\n\nPregnant people can receive a DTAP vaccine during every pregnancy, at the preferred interval based on fetus age, regardless of their last date of vaccine.\nWhen will we allow pregnant women to make this choice with the covid vaccine?",
          "@TLH1965 @Whatelse73 @BrianJo36240174 @TimRunsHisMouth Also if we are going to blame Trump for COVID Biden doesn't get to claim the vaccine because that was all under Trump. And yes Trump is a Dbag and doesn't deserve to be president. Oh yeah remember when Biden said if you get the vaccine you will not die. RIP to my father in law.",
          "@BadMedicalTakes there is not butter in covid vaccines",
          "@Silencer086 @TomasRicardos @LockedOnOrioles The flu actually has a vaccine, similar to COVID.",
          "@sandflea711 @W4llaGaming @juliagoolia1982 @str8shooter123 @Natheio2007 @BluewoodHomes dude the vaccine lowers your chance of dying, sever disease, long covid, etc... WAY more than 12%. i'm not entirely sure what you're reading, i don't care about cnn, but you're obviously not understanding whatever it is",
          "COVID-19 Vaccines | \"1 in 5 Are Willing to Put Families At Risk Rather Than Get Vaccinated.\" - Obama https://t.co/smxVwHF84t",
          "Virus experts recommend Novavax Covid-19 vaccine https://t.co/ARt9DFtHZg",
          "@realMeetKevin These vaccines &amp; boosters kept &amp; still keeps your customers buying your educational products alive @realMeetKevin .  That flu pandemic thing from 100 years ago still recommends yearly flu shots. Like, reptile hunting sounds easy till it’s a small chameleon w/ camo (Covid/flu)… https://t.co/9gywRpgw3W",
          "What Would a Novavax Covid-19 Vaccine Mean in the US? https://t.co/Qin6EWzsDR",
          "Trials of new Covid vaccine raise hopes of once-a-year booster. https://t.co/OLGkZUJKvr",
          "@GovCanHealth Any word on when Canada is meeting to approve EUA covid 19 vaccine for U5?",
          "✓ A Fourth COVID-19 Vaccine, From Novovax, Passed a Key Stage in the Authorization Process #BreakingNews #time #RT ►►► https://t.co/8yUjqGeAc1 https://t.co/t5Z1bW3VhU",
          "@txsalth2o My daughters aren’t going to summer camp this summer because their camp decided to require the Covid vaccine. Instead we are leaving CA. We sold our home of 24 years and are moving to NW Arkansas. Adios California 👋🏼",
          "If anyone in your Twitter feed is claiming that monkeypox is caused by a COVID vaccine, you need to follow smarter people. https://t.co/23HNmHDV1Z",
          "Covid 19 vaccine causing heart problems such as myocarditis/pericarditis especially amoung boys. This is NOT rare, lack of public knowledge make it rare. \n\n@HSELive\n this is part of a PDF document from hse website why wasnt/isn't this shared \nbroadcast on Irish media... https://t.co/22IfAXur1E",
          "@BadMedicalTakes Say Covid vaccines are hot when doctors literally had to source special machines that would run cold enough to keep them viable",
          "What Would a Novavax Covid-19 Vaccine Mean in the US? https://t.co/wmIS9PeHbT",
          "@monicaonairtalk 10-20 kiloton thermal nuclear devices are dime a dozen an lots of fun, a great way to level a small city kind of like this awesome COVID-19 vaccine did for us",
          "Over 82 million covid vaccines wasted in the US https://t.co/rQwiBMyY17",
          "Covid vaccine…🤔 https://t.co/S9ANpApD33",
          "@aaronhoyland Now if only the vaccine stopped you from getting, transmitting or dying if covid. https://t.co/pttskCxDg0",
          "I have another twitter account , well apparently you can't criticize Bill Gates or the vaccines , oh by way @twitterI I didn't mention covid at all , just a bunch pussy ass liberals , can't deal with the truth",
          "It's depressing that this kind of debunking is necessary &amp; it's not like people into conspiracies are going to believe the mainstream media &amp; PH authorities anyway, but no, the chimpanzee adenovirus in COVID vaccines does not cause #monkeypox.🤦‍♀️\n\nhttps://t.co/TQJczaNhTn"
         ],
         "legendgroup": "",
         "marker": {
          "color": [
           3,
           7,
           0,
           2,
           4,
           2,
           1,
           2,
           2,
           7,
           2,
           0,
           0,
           1,
           7,
           9,
           9,
           0,
           3,
           0,
           6,
           8,
           3,
           1,
           7,
           1,
           8,
           7,
           4,
           7,
           2,
           7,
           2,
           2,
           0,
           6,
           0,
           6,
           8,
           0,
           3,
           2,
           2,
           2,
           0,
           5,
           1,
           6,
           2,
           3,
           2
          ],
          "coloraxis": "coloraxis",
          "symbol": "circle"
         },
         "mode": "markers",
         "name": "",
         "orientation": "v",
         "showlegend": false,
         "textfont": {
          "size": 22
         },
         "type": "scatter",
         "x": [
          2.137701988220215,
          1.4068927764892578,
          1.9339534044265747,
          0.7309918403625488,
          1.7285252809524536,
          0.6651310324668884,
          1.2267675399780273,
          1.3168562650680542,
          0.2276875078678131,
          0.4664347469806671,
          -0.029143884778022766,
          2.9386346340179443,
          0.7901394367218018,
          1.6665798425674438,
          0.5151546597480774,
          2.5688366889953613,
          2.422999382019043,
          2.5130879878997803,
          -0.03155001997947693,
          2.0802812576293945,
          2.488659381866455,
          1.380881667137146,
          1.694667100906372,
          0.8915385007858276,
          0.046124354004859924,
          0.9185123443603516,
          1.176856517791748,
          0.7102620601654053,
          1.4841774702072144,
          0.011244149878621101,
          -0.2027265727519989,
          -0.28068098425865173,
          0.6321923136711121,
          0.9296348094940186,
          2.704669952392578,
          2.2551441192626953,
          2.2565906047821045,
          2.2976303100585938,
          1.7755664587020874,
          2.201897382736206,
          1.2335888147354126,
          -0.5204735398292542,
          0.919255256652832,
          -0.09776619076728821,
          2.3266477584838867,
          2.838163375854492,
          1.4890599250793457,
          1.57755446434021,
          0.43606284260749817,
          -0.17891865968704224,
          -0.466092973947525
         ],
         "xaxis": "x",
         "y": [
          0.6536154747009277,
          1.361139178276062,
          -2.2071056365966797,
          -0.8371850252151489,
          -1.495951533317566,
          -0.2609763443470001,
          0.6746146082878113,
          -1.993150234222412,
          -1.0449893474578857,
          0.5681021809577942,
          -0.3461528420448303,
          -1.5809355974197388,
          -1.5980252027511597,
          0.5442159175872803,
          1.1153916120529175,
          0.26464253664016724,
          0.4313555955886841,
          -2.2308452129364014,
          1.323028564453125,
          -1.249074101448059,
          -1.0209523439407349,
          -0.36492717266082764,
          1.0154191255569458,
          1.262028694152832,
          0.5113458633422852,
          0.6969208121299744,
          0.06465540826320648,
          0.08628790825605392,
          -1.7015597820281982,
          0.1693846434354782,
          -1.027057409286499,
          -0.42818546295166016,
          0.5440061688423157,
          -0.35360386967658997,
          -1.7617645263671875,
          -0.33136966824531555,
          -2.3773534297943115,
          -0.6255666017532349,
          -0.3020378053188324,
          -1.671874761581421,
          -1.2047935724258423,
          0.7335472106933594,
          -1.10917329788208,
          -1.3465315103530884,
          -2.052767038345337,
          -0.6679689288139343,
          0.23147237300872803,
          -0.899385392665863,
          -0.6361147165298462,
          0.9564235210418701,
          0.35398542881011963
         ],
         "yaxis": "y"
        }
       ],
       "layout": {
        "coloraxis": {
         "colorbar": {
          "title": {
           "text": "clusters"
          }
         },
         "colorscale": [
          [
           0,
           "#0d0887"
          ],
          [
           0.1111111111111111,
           "#46039f"
          ],
          [
           0.2222222222222222,
           "#7201a8"
          ],
          [
           0.3333333333333333,
           "#9c179e"
          ],
          [
           0.4444444444444444,
           "#bd3786"
          ],
          [
           0.5555555555555556,
           "#d8576b"
          ],
          [
           0.6666666666666666,
           "#ed7953"
          ],
          [
           0.7777777777777778,
           "#fb9f3a"
          ],
          [
           0.8888888888888888,
           "#fdca26"
          ],
          [
           1,
           "#f0f921"
          ]
         ]
        },
        "legend": {
         "tracegroupgap": 0
        },
        "margin": {
         "t": 60
        },
        "template": {
         "data": {
          "bar": [
           {
            "error_x": {
             "color": "#2a3f5f"
            },
            "error_y": {
             "color": "#2a3f5f"
            },
            "marker": {
             "line": {
              "color": "#E5ECF6",
              "width": 0.5
             },
             "pattern": {
              "fillmode": "overlay",
              "size": 10,
              "solidity": 0.2
             }
            },
            "type": "bar"
           }
          ],
          "barpolar": [
           {
            "marker": {
             "line": {
              "color": "#E5ECF6",
              "width": 0.5
             },
             "pattern": {
              "fillmode": "overlay",
              "size": 10,
              "solidity": 0.2
             }
            },
            "type": "barpolar"
           }
          ],
          "carpet": [
           {
            "aaxis": {
             "endlinecolor": "#2a3f5f",
             "gridcolor": "white",
             "linecolor": "white",
             "minorgridcolor": "white",
             "startlinecolor": "#2a3f5f"
            },
            "baxis": {
             "endlinecolor": "#2a3f5f",
             "gridcolor": "white",
             "linecolor": "white",
             "minorgridcolor": "white",
             "startlinecolor": "#2a3f5f"
            },
            "type": "carpet"
           }
          ],
          "choropleth": [
           {
            "colorbar": {
             "outlinewidth": 0,
             "ticks": ""
            },
            "type": "choropleth"
           }
          ],
          "contour": [
           {
            "colorbar": {
             "outlinewidth": 0,
             "ticks": ""
            },
            "colorscale": [
             [
              0,
              "#0d0887"
             ],
             [
              0.1111111111111111,
              "#46039f"
             ],
             [
              0.2222222222222222,
              "#7201a8"
             ],
             [
              0.3333333333333333,
              "#9c179e"
             ],
             [
              0.4444444444444444,
              "#bd3786"
             ],
             [
              0.5555555555555556,
              "#d8576b"
             ],
             [
              0.6666666666666666,
              "#ed7953"
             ],
             [
              0.7777777777777778,
              "#fb9f3a"
             ],
             [
              0.8888888888888888,
              "#fdca26"
             ],
             [
              1,
              "#f0f921"
             ]
            ],
            "type": "contour"
           }
          ],
          "contourcarpet": [
           {
            "colorbar": {
             "outlinewidth": 0,
             "ticks": ""
            },
            "type": "contourcarpet"
           }
          ],
          "heatmap": [
           {
            "colorbar": {
             "outlinewidth": 0,
             "ticks": ""
            },
            "colorscale": [
             [
              0,
              "#0d0887"
             ],
             [
              0.1111111111111111,
              "#46039f"
             ],
             [
              0.2222222222222222,
              "#7201a8"
             ],
             [
              0.3333333333333333,
              "#9c179e"
             ],
             [
              0.4444444444444444,
              "#bd3786"
             ],
             [
              0.5555555555555556,
              "#d8576b"
             ],
             [
              0.6666666666666666,
              "#ed7953"
             ],
             [
              0.7777777777777778,
              "#fb9f3a"
             ],
             [
              0.8888888888888888,
              "#fdca26"
             ],
             [
              1,
              "#f0f921"
             ]
            ],
            "type": "heatmap"
           }
          ],
          "heatmapgl": [
           {
            "colorbar": {
             "outlinewidth": 0,
             "ticks": ""
            },
            "colorscale": [
             [
              0,
              "#0d0887"
             ],
             [
              0.1111111111111111,
              "#46039f"
             ],
             [
              0.2222222222222222,
              "#7201a8"
             ],
             [
              0.3333333333333333,
              "#9c179e"
             ],
             [
              0.4444444444444444,
              "#bd3786"
             ],
             [
              0.5555555555555556,
              "#d8576b"
             ],
             [
              0.6666666666666666,
              "#ed7953"
             ],
             [
              0.7777777777777778,
              "#fb9f3a"
             ],
             [
              0.8888888888888888,
              "#fdca26"
             ],
             [
              1,
              "#f0f921"
             ]
            ],
            "type": "heatmapgl"
           }
          ],
          "histogram": [
           {
            "marker": {
             "pattern": {
              "fillmode": "overlay",
              "size": 10,
              "solidity": 0.2
             }
            },
            "type": "histogram"
           }
          ],
          "histogram2d": [
           {
            "colorbar": {
             "outlinewidth": 0,
             "ticks": ""
            },
            "colorscale": [
             [
              0,
              "#0d0887"
             ],
             [
              0.1111111111111111,
              "#46039f"
             ],
             [
              0.2222222222222222,
              "#7201a8"
             ],
             [
              0.3333333333333333,
              "#9c179e"
             ],
             [
              0.4444444444444444,
              "#bd3786"
             ],
             [
              0.5555555555555556,
              "#d8576b"
             ],
             [
              0.6666666666666666,
              "#ed7953"
             ],
             [
              0.7777777777777778,
              "#fb9f3a"
             ],
             [
              0.8888888888888888,
              "#fdca26"
             ],
             [
              1,
              "#f0f921"
             ]
            ],
            "type": "histogram2d"
           }
          ],
          "histogram2dcontour": [
           {
            "colorbar": {
             "outlinewidth": 0,
             "ticks": ""
            },
            "colorscale": [
             [
              0,
              "#0d0887"
             ],
             [
              0.1111111111111111,
              "#46039f"
             ],
             [
              0.2222222222222222,
              "#7201a8"
             ],
             [
              0.3333333333333333,
              "#9c179e"
             ],
             [
              0.4444444444444444,
              "#bd3786"
             ],
             [
              0.5555555555555556,
              "#d8576b"
             ],
             [
              0.6666666666666666,
              "#ed7953"
             ],
             [
              0.7777777777777778,
              "#fb9f3a"
             ],
             [
              0.8888888888888888,
              "#fdca26"
             ],
             [
              1,
              "#f0f921"
             ]
            ],
            "type": "histogram2dcontour"
           }
          ],
          "mesh3d": [
           {
            "colorbar": {
             "outlinewidth": 0,
             "ticks": ""
            },
            "type": "mesh3d"
           }
          ],
          "parcoords": [
           {
            "line": {
             "colorbar": {
              "outlinewidth": 0,
              "ticks": ""
             }
            },
            "type": "parcoords"
           }
          ],
          "pie": [
           {
            "automargin": true,
            "type": "pie"
           }
          ],
          "scatter": [
           {
            "fillpattern": {
             "fillmode": "overlay",
             "size": 10,
             "solidity": 0.2
            },
            "type": "scatter"
           }
          ],
          "scatter3d": [
           {
            "line": {
             "colorbar": {
              "outlinewidth": 0,
              "ticks": ""
             }
            },
            "marker": {
             "colorbar": {
              "outlinewidth": 0,
              "ticks": ""
             }
            },
            "type": "scatter3d"
           }
          ],
          "scattercarpet": [
           {
            "marker": {
             "colorbar": {
              "outlinewidth": 0,
              "ticks": ""
             }
            },
            "type": "scattercarpet"
           }
          ],
          "scattergeo": [
           {
            "marker": {
             "colorbar": {
              "outlinewidth": 0,
              "ticks": ""
             }
            },
            "type": "scattergeo"
           }
          ],
          "scattergl": [
           {
            "marker": {
             "colorbar": {
              "outlinewidth": 0,
              "ticks": ""
             }
            },
            "type": "scattergl"
           }
          ],
          "scattermapbox": [
           {
            "marker": {
             "colorbar": {
              "outlinewidth": 0,
              "ticks": ""
             }
            },
            "type": "scattermapbox"
           }
          ],
          "scatterpolar": [
           {
            "marker": {
             "colorbar": {
              "outlinewidth": 0,
              "ticks": ""
             }
            },
            "type": "scatterpolar"
           }
          ],
          "scatterpolargl": [
           {
            "marker": {
             "colorbar": {
              "outlinewidth": 0,
              "ticks": ""
             }
            },
            "type": "scatterpolargl"
           }
          ],
          "scatterternary": [
           {
            "marker": {
             "colorbar": {
              "outlinewidth": 0,
              "ticks": ""
             }
            },
            "type": "scatterternary"
           }
          ],
          "surface": [
           {
            "colorbar": {
             "outlinewidth": 0,
             "ticks": ""
            },
            "colorscale": [
             [
              0,
              "#0d0887"
             ],
             [
              0.1111111111111111,
              "#46039f"
             ],
             [
              0.2222222222222222,
              "#7201a8"
             ],
             [
              0.3333333333333333,
              "#9c179e"
             ],
             [
              0.4444444444444444,
              "#bd3786"
             ],
             [
              0.5555555555555556,
              "#d8576b"
             ],
             [
              0.6666666666666666,
              "#ed7953"
             ],
             [
              0.7777777777777778,
              "#fb9f3a"
             ],
             [
              0.8888888888888888,
              "#fdca26"
             ],
             [
              1,
              "#f0f921"
             ]
            ],
            "type": "surface"
           }
          ],
          "table": [
           {
            "cells": {
             "fill": {
              "color": "#EBF0F8"
             },
             "line": {
              "color": "white"
             }
            },
            "header": {
             "fill": {
              "color": "#C8D4E3"
             },
             "line": {
              "color": "white"
             }
            },
            "type": "table"
           }
          ]
         },
         "layout": {
          "annotationdefaults": {
           "arrowcolor": "#2a3f5f",
           "arrowhead": 0,
           "arrowwidth": 1
          },
          "autotypenumbers": "strict",
          "coloraxis": {
           "colorbar": {
            "outlinewidth": 0,
            "ticks": ""
           }
          },
          "colorscale": {
           "diverging": [
            [
             0,
             "#8e0152"
            ],
            [
             0.1,
             "#c51b7d"
            ],
            [
             0.2,
             "#de77ae"
            ],
            [
             0.3,
             "#f1b6da"
            ],
            [
             0.4,
             "#fde0ef"
            ],
            [
             0.5,
             "#f7f7f7"
            ],
            [
             0.6,
             "#e6f5d0"
            ],
            [
             0.7,
             "#b8e186"
            ],
            [
             0.8,
             "#7fbc41"
            ],
            [
             0.9,
             "#4d9221"
            ],
            [
             1,
             "#276419"
            ]
           ],
           "sequential": [
            [
             0,
             "#0d0887"
            ],
            [
             0.1111111111111111,
             "#46039f"
            ],
            [
             0.2222222222222222,
             "#7201a8"
            ],
            [
             0.3333333333333333,
             "#9c179e"
            ],
            [
             0.4444444444444444,
             "#bd3786"
            ],
            [
             0.5555555555555556,
             "#d8576b"
            ],
            [
             0.6666666666666666,
             "#ed7953"
            ],
            [
             0.7777777777777778,
             "#fb9f3a"
            ],
            [
             0.8888888888888888,
             "#fdca26"
            ],
            [
             1,
             "#f0f921"
            ]
           ],
           "sequentialminus": [
            [
             0,
             "#0d0887"
            ],
            [
             0.1111111111111111,
             "#46039f"
            ],
            [
             0.2222222222222222,
             "#7201a8"
            ],
            [
             0.3333333333333333,
             "#9c179e"
            ],
            [
             0.4444444444444444,
             "#bd3786"
            ],
            [
             0.5555555555555556,
             "#d8576b"
            ],
            [
             0.6666666666666666,
             "#ed7953"
            ],
            [
             0.7777777777777778,
             "#fb9f3a"
            ],
            [
             0.8888888888888888,
             "#fdca26"
            ],
            [
             1,
             "#f0f921"
            ]
           ]
          },
          "colorway": [
           "#636efa",
           "#EF553B",
           "#00cc96",
           "#ab63fa",
           "#FFA15A",
           "#19d3f3",
           "#FF6692",
           "#B6E880",
           "#FF97FF",
           "#FECB52"
          ],
          "font": {
           "color": "#2a3f5f"
          },
          "geo": {
           "bgcolor": "white",
           "lakecolor": "white",
           "landcolor": "#E5ECF6",
           "showlakes": true,
           "showland": true,
           "subunitcolor": "white"
          },
          "hoverlabel": {
           "align": "left"
          },
          "hovermode": "closest",
          "mapbox": {
           "style": "light"
          },
          "paper_bgcolor": "white",
          "plot_bgcolor": "#E5ECF6",
          "polar": {
           "angularaxis": {
            "gridcolor": "white",
            "linecolor": "white",
            "ticks": ""
           },
           "bgcolor": "#E5ECF6",
           "radialaxis": {
            "gridcolor": "white",
            "linecolor": "white",
            "ticks": ""
           }
          },
          "scene": {
           "xaxis": {
            "backgroundcolor": "#E5ECF6",
            "gridcolor": "white",
            "gridwidth": 2,
            "linecolor": "white",
            "showbackground": true,
            "ticks": "",
            "zerolinecolor": "white"
           },
           "yaxis": {
            "backgroundcolor": "#E5ECF6",
            "gridcolor": "white",
            "gridwidth": 2,
            "linecolor": "white",
            "showbackground": true,
            "ticks": "",
            "zerolinecolor": "white"
           },
           "zaxis": {
            "backgroundcolor": "#E5ECF6",
            "gridcolor": "white",
            "gridwidth": 2,
            "linecolor": "white",
            "showbackground": true,
            "ticks": "",
            "zerolinecolor": "white"
           }
          },
          "shapedefaults": {
           "line": {
            "color": "#2a3f5f"
           }
          },
          "ternary": {
           "aaxis": {
            "gridcolor": "white",
            "linecolor": "white",
            "ticks": ""
           },
           "baxis": {
            "gridcolor": "white",
            "linecolor": "white",
            "ticks": ""
           },
           "bgcolor": "#E5ECF6",
           "caxis": {
            "gridcolor": "white",
            "linecolor": "white",
            "ticks": ""
           }
          },
          "title": {
           "x": 0.05
          },
          "xaxis": {
           "automargin": true,
           "gridcolor": "white",
           "linecolor": "white",
           "ticks": "",
           "title": {
            "standoff": 15
           },
           "zerolinecolor": "white",
           "zerolinewidth": 2
          },
          "yaxis": {
           "automargin": true,
           "gridcolor": "white",
           "linecolor": "white",
           "ticks": "",
           "title": {
            "standoff": 15
           },
           "zerolinecolor": "white",
           "zerolinewidth": 2
          }
         }
        },
        "xaxis": {
         "anchor": "y",
         "domain": [
          0,
          1
         ],
         "title": {
          "text": "x"
         }
        },
        "yaxis": {
         "anchor": "x",
         "domain": [
          0,
          1
         ],
         "title": {
          "text": "y"
         }
        }
       }
      }
     },
     "metadata": {},
     "output_type": "display_data"
    },
    {
     "data": {
      "text/plain": [
       "<Figure size 1008x576 with 0 Axes>"
      ]
     },
     "metadata": {},
     "output_type": "display_data"
    }
   ],
   "source": [
    "#components\n",
    "fig = plt.figure(figsize=(14, 8))\n",
    "x = list(umap_embeddings[:,0])\n",
    "y = list(umap_embeddings[:,1])\n",
    "# x and y given as array_like objects\n",
    "\n",
    "#graph data\n",
    "import plotly.express as px\n",
    "fig = px.scatter(df, x=x, y=y, hover_name=df['Text'], color=df['clusters'])\n",
    "fig.update_traces(textfont_size=22)\n",
    "fig.show()\n",
    "# python-daemon==2.2.3"
   ]
  }
 ],
 "metadata": {
  "kernelspec": {
   "display_name": "Python 3.9.13 64-bit",
   "language": "python",
   "name": "python3"
  },
  "language_info": {
   "codemirror_mode": {
    "name": "ipython",
    "version": 3
   },
   "file_extension": ".py",
   "mimetype": "text/x-python",
   "name": "python",
   "nbconvert_exporter": "python",
   "pygments_lexer": "ipython3",
   "version": "3.9.13"
  },
  "orig_nbformat": 4,
  "vscode": {
   "interpreter": {
    "hash": "85f9d140c5a239dea34f0eb102a89114dd1d2d0a202ba2426144d95087bae6fb"
   }
  }
 },
 "nbformat": 4,
 "nbformat_minor": 2
}
