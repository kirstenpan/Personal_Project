{
 "cells": [
  {
   "cell_type": "code",
   "execution_count": 1,
   "metadata": {},
   "outputs": [
    {
     "name": "stdout",
     "output_type": "stream",
     "text": [
      "Kirsten\n"
     ]
    }
   ],
   "source": [
    "import socket\n",
    "\n",
    "print(socket.gethostname())"
   ]
  },
  {
   "cell_type": "code",
   "execution_count": null,
   "metadata": {},
   "outputs": [],
   "source": [
    "import nltk\n",
    "import ssl\n",
    "\n",
    "try:\n",
    "    _create_unverified_https_context = ssl._create_unverified_context\n",
    "except AttributeError:\n",
    "    pass\n",
    "else:\n",
    "    ssl._create_default_https_context = _create_unverified_https_context\n",
    "\n",
    "nltk.download()"
   ]
  },
  {
   "cell_type": "code",
   "execution_count": 17,
   "metadata": {},
   "outputs": [
    {
     "data": {
      "text/html": [
       "<div>\n",
       "<style scoped>\n",
       "    .dataframe tbody tr th:only-of-type {\n",
       "        vertical-align: middle;\n",
       "    }\n",
       "\n",
       "    .dataframe tbody tr th {\n",
       "        vertical-align: top;\n",
       "    }\n",
       "\n",
       "    .dataframe thead th {\n",
       "        text-align: right;\n",
       "    }\n",
       "</style>\n",
       "<table border=\"1\" class=\"dataframe\">\n",
       "  <thead>\n",
       "    <tr style=\"text-align: right;\">\n",
       "      <th></th>\n",
       "      <th>Datetime</th>\n",
       "      <th>Text</th>\n",
       "      <th>text_vector_</th>\n",
       "      <th>clusters</th>\n",
       "      <th>zeroshots</th>\n",
       "    </tr>\n",
       "  </thead>\n",
       "  <tbody>\n",
       "    <tr>\n",
       "      <th>0</th>\n",
       "      <td>2022-01-16 23:59:54+00:00</td>\n",
       "      <td>COVID-19 vaccination is an important tool to h...</td>\n",
       "      <td>[-0.049165625125169754, 0.00540272518992424, -...</td>\n",
       "      <td>1</td>\n",
       "      <td>[covid19, vaccinate, covid, covidvaccine, vacc...</td>\n",
       "    </tr>\n",
       "    <tr>\n",
       "      <th>1</th>\n",
       "      <td>2022-01-16 23:59:53+00:00</td>\n",
       "      <td>What You Need to Know\\r\\nCOVID-19 vaccines are...</td>\n",
       "      <td>[-0.031744182109832764, 0.03662050887942314, -...</td>\n",
       "      <td>7</td>\n",
       "      <td>[vaccines, vaccinés, vaccine, vacciné, covid19]</td>\n",
       "    </tr>\n",
       "    <tr>\n",
       "      <th>2</th>\n",
       "      <td>2022-01-16 23:59:52+00:00</td>\n",
       "      <td>North West rolls out COVID vaccines for five t...</td>\n",
       "      <td>[-0.041435740888118744, 0.05033731088042259, 0...</td>\n",
       "      <td>15</td>\n",
       "      <td>[vaccineswork, vaccines, vaccinés, vaccine, va...</td>\n",
       "    </tr>\n",
       "    <tr>\n",
       "      <th>3</th>\n",
       "      <td>2022-01-16 23:59:47+00:00</td>\n",
       "      <td>@JoeNBC Bring the attention to the part Republ...</td>\n",
       "      <td>[-0.010744630359113216, 0.11081323027610779, 0...</td>\n",
       "      <td>4</td>\n",
       "      <td>[biden, vaccines, vaccinés, vaccine, vacciné]</td>\n",
       "    </tr>\n",
       "    <tr>\n",
       "      <th>4</th>\n",
       "      <td>2022-01-16 23:59:36+00:00</td>\n",
       "      <td>GOP Lt. Gov. of Utah falsely suggests the Covi...</td>\n",
       "      <td>[-0.0013050938723608851, 0.048196353018283844,...</td>\n",
       "      <td>18</td>\n",
       "      <td>[vaccine, vacciné, vaccines, vaccinés, covidva...</td>\n",
       "    </tr>\n",
       "    <tr>\n",
       "      <th>...</th>\n",
       "      <td>...</td>\n",
       "      <td>...</td>\n",
       "      <td>...</td>\n",
       "      <td>...</td>\n",
       "      <td>...</td>\n",
       "    </tr>\n",
       "    <tr>\n",
       "      <th>95</th>\n",
       "      <td>2022-01-16 23:52:55+00:00</td>\n",
       "      <td>@RiskManager16 @peatmoss99 @thomasg_grizzle I ...</td>\n",
       "      <td>[0.004946395289152861, 0.04833965003490448, 0....</td>\n",
       "      <td>17</td>\n",
       "      <td>[vaccineswork, vaccines, vaccinés, vaccine, va...</td>\n",
       "    </tr>\n",
       "    <tr>\n",
       "      <th>96</th>\n",
       "      <td>2022-01-16 23:52:43+00:00</td>\n",
       "      <td>@iomega76 @veroniquegenest @LCI @BFMTV Pas de ...</td>\n",
       "      <td>[-0.0025777705013751984, 0.015972953289747238,...</td>\n",
       "      <td>3</td>\n",
       "      <td>[covid19, covid, vaccinoobbligatorio, vaccines...</td>\n",
       "    </tr>\n",
       "    <tr>\n",
       "      <th>97</th>\n",
       "      <td>2022-01-16 23:52:35+00:00</td>\n",
       "      <td>Vaccines Not Durable, Omicron Might Turn COVID...</td>\n",
       "      <td>[-0.03146892413496971, 0.0998193547129631, 0.0...</td>\n",
       "      <td>2</td>\n",
       "      <td>[covid19, covid, covidvaccine, vaccineswork, v...</td>\n",
       "    </tr>\n",
       "    <tr>\n",
       "      <th>98</th>\n",
       "      <td>2022-01-16 23:52:32+00:00</td>\n",
       "      <td>Why are vaxed folk still acting as though unva...</td>\n",
       "      <td>[-0.02631009928882122, 0.05830833315849304, 0....</td>\n",
       "      <td>17</td>\n",
       "      <td>[vaccine, vacciné, vaccines, vaccinés, covid]</td>\n",
       "    </tr>\n",
       "    <tr>\n",
       "      <th>99</th>\n",
       "      <td>2022-01-16 23:52:28+00:00</td>\n",
       "      <td>it the time of globalist peace\\r\\nweapons will...</td>\n",
       "      <td>[0.005230747163295746, 0.10446367412805557, 0....</td>\n",
       "      <td>17</td>\n",
       "      <td>[covidvaccine, covid19, vasccines, epidemics, ...</td>\n",
       "    </tr>\n",
       "  </tbody>\n",
       "</table>\n",
       "<p>100 rows × 5 columns</p>\n",
       "</div>"
      ],
      "text/plain": [
       "                     Datetime  \\\n",
       "0   2022-01-16 23:59:54+00:00   \n",
       "1   2022-01-16 23:59:53+00:00   \n",
       "2   2022-01-16 23:59:52+00:00   \n",
       "3   2022-01-16 23:59:47+00:00   \n",
       "4   2022-01-16 23:59:36+00:00   \n",
       "..                        ...   \n",
       "95  2022-01-16 23:52:55+00:00   \n",
       "96  2022-01-16 23:52:43+00:00   \n",
       "97  2022-01-16 23:52:35+00:00   \n",
       "98  2022-01-16 23:52:32+00:00   \n",
       "99  2022-01-16 23:52:28+00:00   \n",
       "\n",
       "                                                 Text  \\\n",
       "0   COVID-19 vaccination is an important tool to h...   \n",
       "1   What You Need to Know\\r\\nCOVID-19 vaccines are...   \n",
       "2   North West rolls out COVID vaccines for five t...   \n",
       "3   @JoeNBC Bring the attention to the part Republ...   \n",
       "4   GOP Lt. Gov. of Utah falsely suggests the Covi...   \n",
       "..                                                ...   \n",
       "95  @RiskManager16 @peatmoss99 @thomasg_grizzle I ...   \n",
       "96  @iomega76 @veroniquegenest @LCI @BFMTV Pas de ...   \n",
       "97  Vaccines Not Durable, Omicron Might Turn COVID...   \n",
       "98  Why are vaxed folk still acting as though unva...   \n",
       "99  it the time of globalist peace\\r\\nweapons will...   \n",
       "\n",
       "                                         text_vector_  clusters  \\\n",
       "0   [-0.049165625125169754, 0.00540272518992424, -...         1   \n",
       "1   [-0.031744182109832764, 0.03662050887942314, -...         7   \n",
       "2   [-0.041435740888118744, 0.05033731088042259, 0...        15   \n",
       "3   [-0.010744630359113216, 0.11081323027610779, 0...         4   \n",
       "4   [-0.0013050938723608851, 0.048196353018283844,...        18   \n",
       "..                                                ...       ...   \n",
       "95  [0.004946395289152861, 0.04833965003490448, 0....        17   \n",
       "96  [-0.0025777705013751984, 0.015972953289747238,...         3   \n",
       "97  [-0.03146892413496971, 0.0998193547129631, 0.0...         2   \n",
       "98  [-0.02631009928882122, 0.05830833315849304, 0....        17   \n",
       "99  [0.005230747163295746, 0.10446367412805557, 0....        17   \n",
       "\n",
       "                                            zeroshots  \n",
       "0   [covid19, vaccinate, covid, covidvaccine, vacc...  \n",
       "1     [vaccines, vaccinés, vaccine, vacciné, covid19]  \n",
       "2   [vaccineswork, vaccines, vaccinés, vaccine, va...  \n",
       "3       [biden, vaccines, vaccinés, vaccine, vacciné]  \n",
       "4   [vaccine, vacciné, vaccines, vaccinés, covidva...  \n",
       "..                                                ...  \n",
       "95  [vaccineswork, vaccines, vaccinés, vaccine, va...  \n",
       "96  [covid19, covid, vaccinoobbligatorio, vaccines...  \n",
       "97  [covid19, covid, covidvaccine, vaccineswork, v...  \n",
       "98      [vaccine, vacciné, vaccines, vaccinés, covid]  \n",
       "99  [covidvaccine, covid19, vasccines, epidemics, ...  \n",
       "\n",
       "[100 rows x 5 columns]"
      ]
     },
     "execution_count": 17,
     "metadata": {},
     "output_type": "execute_result"
    }
   ],
   "source": [
    "# #import variables and functions\n",
    "# from file_0 import *\n",
    "# #set path to this folder\n",
    "# import os\n",
    "# os.chdir(os.path.dirname(__file__))\n",
    "#import rest of the libraries to execute this .py\n",
    "import numpy as np\n",
    "from sklearn.cluster import KMeans\n",
    "import pandas as pd\n",
    "\n",
    "#load encoded files\n",
    "df = pd.read_parquet('df_2_clustered.parquet')\n",
    "df"
   ]
  },
  {
   "cell_type": "code",
   "execution_count": 1,
   "metadata": {},
   "outputs": [
    {
     "data": {
      "application/vnd.plotly.v1+json": {
       "config": {
        "plotlyServerURL": "https://plot.ly"
       },
       "data": [
        {
         "hovertemplate": "<b>%{hovertext}</b><br><br>x=%{x}<br>y=%{y}<br>clusters=%{marker.color}<extra></extra>",
         "hovertext": [
          "COVID-19 vaccination is an important tool to help stop the pandemic.\r\nCDC recommends you get a COVID-19 vaccine as soon as you can.",
          "What You Need to Know\r\nCOVID-19 vaccines are available for everyone ages 5 years and older at no cost.\r\nVaccines were paid for with taxpayer dollars and will be given free of charge to all people living in the United States, regardless of insurance or immigration status. https://t.co/x2FE0Te79B",
          "North West rolls out COVID vaccines for five to 11 year-olds https://t.co/SNCoJisnak",
          "@JoeNBC Bring the attention to the part Republicans have played in the Covid pandemic. Vaccines have been available for one year. Biden can not make people take it thank you Supreme Court.Republicans own this!!",
          "GOP Lt. Gov. of Utah falsely suggests the Covid vaccine doesn’t work. I thought Covid disinformation wasn’t allowed, @TwitterSafety @TwitterSupport. https://t.co/DK8uElVyRN",
          "@eastrockpolitic First of all I’m not a Liberal - I’m a lifelong Conservative so you’re not as smart as you think. \r\nYour answer to vaccine mandates for schools is laughable. Same thing happens in the Military and it is to protect people, which is exactly what Covid vaccine mandates will do.",
          "UN-backed COVAX mechanism delivers its 1 billionth COVID-19 vaccine dose\r\nhttps://t.co/KMWlBjTg4B",
          "@MalcolmNance Do you think they fight for the front of the line to get covid vaccines now?",
          "Thrilled to see the work of @BarneyGrahamMD, a great scientist, mentor, and friend, that led to the #COVID vaccine featured @nytimes - he committed his life to saving so many lives through vaccines, and training the next generation to continue the work. https://t.co/W4mWFW3VBK https://t.co/P2soPzI0Z1",
          "\"She surely saw the irony in the fact that it was I, the vaccinated mask-wearer, rather than she, member of the resistance against both masks and vaccines, who had brought Covid to this place.\" Jamie Santa Cruz\r\nhttps://t.co/sCQtOFJrgr",
          "If I have natural immunity do I still need a COVID vaccine? Yes. \r\nhttps://t.co/Y74SigT5uJ",
          "Not isolating would spread covid infections, a mutant for every 2 persons infected. Vaccines are against covid-19, not mutants.  Fortunately, it’s effective against delta. The more mutants there are, the more difficult are covid-19 vaccines to stop mutants; needing a NEW vaccine. https://t.co/pqS1gz6xLk",
          "@eraqbjorn @johnsbig73 @Lija27 If myocarditis is a risk of both the vaccine &amp; virus guess which one I’d rather take my chances with for my kid?\r\n\r\nHe had no issues with either shot. His risk of complications from covid including myocarditis are greatly reduced.",
          "@Surfaqua @RestitutorOrien Ils nous préparent au virus #Marburg ,.soyez vigilant les personnes vaccinés, ils vous cibles en priorité car à cause des injections covid, il.est possible que vous ayez une diminution du système immunitaire",
          "@DigitalChick73 @yourcomradetony @POTUS I'm married to a medical researcher DR who lectures on this. \r\nCovid vaccines are all mRNA vaccines meaning do NOT have actual virus strain in them. They are immunity boosters to aid in fighting the virus, but you can still test+ as a carrier. 20X more deadly if unvaccinated.",
          "@KevinWyoming2 @KwaiChangCaine @Jessica45515948 @POTUS And I agree. I'm not fighting that.  What I AM fighting is these people who are screaming that Biden has not kept his promise to get COVID under control while screaming that they ain't getting the vaccine. Fine, they don't have to get it, but lay off Biden for not controlling it.",
          "@DanhoIsa @RealCandaceO That might be a good analogy.  I am 51 yrs old &amp; have been in 4 car accidents. (2major/2minor).  No air bag involved in any of them.  Survived them all.  You don't need an airbag to survive a car wreck.  You don't need a vaccine to survive Covid infection.",
          "Mom tested positive for covid got all 3 https://t.co/GPInqSTECc thanks vaccine 🤣🤯🤡",
          "@Tess112 @rbsralaw When   Biden became president he made Covid shots available to anyone who wants one.   Couldn’t get a shot under trump.  Anti vaxers are refusing the shot and refusing to wear masks.  They know that. Trump is playing the race card. Maybe now they will demand the vaccine.",
          "@NYSLabor Is there any jobs available I can work as in NYC that doesn’t require me for a Covid-19 vaccine (asking for a friend)",
          "@chelonien Oui il y avait sûrement des anti-vax dans le meeting et à coup sûr des anti pass sanitaire (moi &amp; triple vacciné☝🏼) et 100% de personnes qui pensent que la gestion de la crise COVID par Macron est calamiteuse. De là dire que JLM est anti-vax. Flemme 🥱",
          "@SeaShell00000 @Huntzee @Antipolitical_ @SuzanneWhitby5 @LiamFisherFez @VigilantFox Your bias prevents you from believing the ACTUAL facts &amp; instead distort what he said\r\n\r\nSome social media users claim the exec means the initial vax were “a failure” or that the vaccine does not protect against COVID. This is misleading, as his comments were specific about Omicron",
          "@KC40609600 @TipofSpear7 @molmccann Did you know that Covid-19 patients who are unvaccinated,  and contract Covid-19 are 4 at times higher risk at myocarditis? Far exceeds the vaccine risk.  Surely,  your research showed you this,  right?",
          "@RealCandaceO MAGAccusation shows confession once more. In case it wasn’t clear that they want us to die from COVID. \r\n\r\nPS if Candace wants to talk stats, let’s talk about the stats of vaccine side effects OR that 0.13% of 330M is less than our death toll\r\n\r\nOr how she hates old people",
          "@IExpressSports @shahidthejudge The French Sports Minister made those comments 7 January... The French Parliament approved tougher COVID vaccine restrictions yesterday that seemingly contradict her statements...\r\n\r\nhttps://t.co/QCs4lgvggt",
          "This is definitely my booster experience, with mine being on the more extreme side 😭 - \r\n\"Why are my lymph nodes swollen and sore after a Pfizer or Moderna COVID booster vaccine?\" https://t.co/VTGPTJ5IJH via @ABCaustralia",
          "@RyanAtRBM He’s done a lot of good things for australia. Sadly his views on covid and vaccines don’t align with our public health. Our government are shit for the way they have handled this whole event.",
          "#COVID #Covid_19 #vaccine #VaccinesWork #OmicronVariant #omicrom #BidenIsAFailure #CDC https://t.co/sPa5mZLpF7",
          "@HSchmerz7 @morningbrah Well the efficacy of the vaccines refers to preventing severe cases of COVID19, not transmissibility. And the less severe the case of covid, the less time a person is contagious and spreading the virus. The study states plainly that it was a limitation of their study, Thats good",
          "@janeruthsozo @jordanbpeterson @Ravarora1 I think the article @jordanbpeterson cited acknowledges that. The problem is the author claims that the vaccine is riskier than contracting COVID-19 for young males, which is not true. https://t.co/jsq2M7M76y",
          "For the record, got COVID last Saturday. By Wednesday, I was on the downslope of the illness. I guess all this vaccines from the Army kicked its arse...and of course, im vaxxed. 🙃😎",
          "@JoeBiden No I will never get the vaccine, I am 30 and healthy and ALREADY HAD COVID I WAS SICK FOR LIKE 3 DAYS. All that happened is I slept all day, oh the horror.",
          "@SenTedCruz Ted. Some of us would like the pandemic to be over.\r\n\r\nYou don't promote vaccines. You fight masks. \r\n\r\nIt feels a lot like your most important constituent is covid-19 instead of the people of Texas.",
          "I also found this podcast from last June about Dr. Kariko's role in developing the Covid vaccine fascinating and inspiring: https://t.co/w4V7QLSkt1 https://t.co/Djg0SyCQRE",
          "@POTUS Are you aware that literally zero religious exemptions have been approved in the US Air Force for our all volunteer force being forced to get COVID vaccines? A mandate is one thing but not allowing religious exceptions is unconstitutional.",
          "Science: \"Here's a vaccine specifically designed to help treat COVID and it's variants.\" \r\n\r\nDana White: \"Naw use these other things that may or may not work on it and take your chances.\" 🤦🏽‍♂️",
          "@eraqbjorn @johnsbig73 @Lija27 The myocarditis caused by the vaccines have been self limiting to a few days of rest at home &amp; generally resolves on its own. \r\n\r\nMyocarditis from covid is a different beast altogether. Often requires med intervention &amp; can result in long term damage.",
          "@calvinrobinson @NONONOEU Ok, fine, we’ll just specifically Zero in on Omicron-The Vaccine is not effective.\r\nNow that we’ve got that out the way, what variant are we now focusing on as the most prevalent of the Covid 19 variants? \r\n🧏🏽‍♂️Oh, Ok 👍🏽 thanks 🙏🏽 \r\nCarry on with what Vaccine mandates are targeting?",
          "Covid scientist are increasingly convinced the Omicron variant is acting as a natural vaccine for tens of millions of people around the world as most infected people have no or very mild symptoms, yet their bodies do produce full antibodies.\r\n\r\nhttps://t.co/FrtKIME7iz",
          "@richyonetwo @mattletiss7 It depends which science you are listening too, yes sure the scientists who are funded to push the vaccine will tell you its a good idea to take it. And everyone who I know who has had covid were fully vaccinated, all of my unjabbed friends have been completely fine. Just saying",
          "Supreme Court Upholds CMS COVID Vaccine Mandate https://t.co/ytI8zG4YCv | by @NJLlaw",
          "Why Does Rolling Stone Spread Misinformation About Covid and Vaccines?\r\n\"what was once an esteemed publication has sunk to smear tactics and become a mouthpiece for big pharma, and an enemy of open dialogue.\"\r\nPlease share on here and on other social media\r\nhttps://t.co/VRJN7VZFxm",
          "2 years in and they’re still trying to hide the origins of covid. What are they scared of? \r\n\r\n2 years in and everybody who has anybody who is not 100% pro vaccine is censored and banned. What are they scared of?",
          "@ScallyNancy Children have a greater risk of myocarditis from Covid than the vaccine. \r\n\r\nAbout 8 to 10 times higher risk. \r\n\r\nEven still its rare and typically resolves on its own.  \r\n\r\nhttps://t.co/w3l01pwccR",
          "MIT Research Scientist Says Kids Should Not Receive COVID Vaccines - I think it is “outrageous to be giving vaccines to young people because they have a very, very low risk of dying from COVID.” - Dr. Stephanie Seneff\r\nhttps://t.co/rDg3DNMbX9 via @BreitbartNews",
          "@LetsFishSmarter This is a really good discussion of the difficulties of predicting where covid is going and what vaccines do make for it: https://t.co/0q8LHXUZFP",
          "I am thinking about kids who will suffer from long Covid and possible heart attacks. \r\n\r\nDo the vaccine+booster really work? Like the virus is designed for the vaccine.",
          "Sì sicuramente. Storia già sentita. #Covid_19 #COVID #CovidVaccine #vaccinoobbligatorio #GreenpassObbligatorio #greenpass https://t.co/ipGe8q6MyZ",
          "Tomorrow at Dr. @alastanford Center for Health Equity (2001 W. Lehigh Ave.)!\r\n#CovidTesting #CovidVaccine #MLKDay  #phled https://t.co/aSMgwVgpKR",
          "@VolsBadaBings @Tennessee_Mojo Personally I’ve not had a vaccine. I’ve caught covid once with little side effects. My wife has been vaxxed and she’s caught it 3 separate times",
          "#Covid #Corona #Vaccine #Booster #Tsunami #Death\r\n\r\nhttps://t.co/ddJpGRzFsF",
          "“I have the vaccine and boosters but I still caught covid” 😂😂😂😂😂😂😂😂😂😂",
          "@Punchapalooza My 6 year old grandaughter has covid. Thank God she had the vaccine",
          "@pollockchas @FOX5Atlanta When my brother was hospitalized, the doctor then came to see him and said she would come to his house after he got out. At that time she would give him the covid vaccine. Sadly, my brother died in the hospital from Covid. I am vaxxed",
          "If you have a question about COVID-19 or the COVID-19 vaccine call the Aboriginal COVID info line on 1800 312 911. Open from 9am – 5pm, 7 days a week.\r\n\r\nYou can book your latest COVID-19 vaccine through your local ACCO, GP, pharmacist or state vaccination centre.\r\n\r\n#ProtectMob",
          "Supreme Court blocks Biden Covid vaccine mandate for businesses, allows health-care worker rule https://t.co/YmLVifaXEJ",
          "@SpeakOnIt9 Covid vaccine like flu vaccine mitigates illness from virus if a vaxed person contracts it.vaccinations protect overall community preventing virus from spreading/mutating to a more serious variant.Majority of fully vax won’t need therapeutics. Smokers pay more for health ins",
          "“Vaccine lessens your symptoms of covid” my uncles whole fam vaccinated and is doing horrible so fuck the vaccine.",
          "@lindaspatterson @dandinohill Experts? You mean charlatans like Dr. McCullough? Wherein episode 1747 he claims he loves vaccine so much he traveled to India to get extra vaccines, only to talk about how dangerous they are 30 minutes later? Or how one can't catch covid twice? Do you have any critical thinking?",
          "@AndrewAJH @PatsKarvelas Is there modelling for how schools opening might lead to another wave? What about boosters for teens? Vaccines for children? Air purifiers in every classroom (including secondary schools)...long COVID in kids and teens...",
          "@eraqbjorn @johnsbig73 @Lija27 I would care very about children suffering from blood clots &amp; myocarditis caused by vaccines IF they were caused by vaccines. \r\n\r\nBlood clots are a complication of covid. Omicron variant is more vascular in its effects.",
          "We vaccinate our kids to keep them safe and healthy from measles, mumps, rubella, polio, tetanus, diphtheria, etc. \r\n\r\nAdults get flu vaccines, tetanus, shingles, etc. \r\n\r\nThen a doofus &amp; his minions come along and politicize COVID vaccines that save lives. Is this patriotic?",
          "If this rampant capitalist profiteering or is the jury still out?\r\n\r\nYou take a vaccine for the flu and the likely hood is you won’t get it.\r\n\r\nYou take a vaccine for Covid, but you’ll still get infected.\r\n\r\n#auspol",
          "@SOFREP37167 @debimcq_debi @carolmswain @washingtonpost I never said there wasn’t staff out! I said, if you’ll pay attention, that only 1% is due to the vaccine mandate, which is negligible. There’s NOT enough clinical staff b/c of all  the non-vaxxed Covid patients; a problem with or without a mandate. Please read this again.",
          "Easy to read. Basics. \r\n\r\nHow Do We Know the COVID-19 Vaccine Won’t Have Long-Term Side Effects? https://t.co/LcM5FfglYb",
          "@Daphne999 @Francesco0996 Shhh go get your 5th booster! I just got covid that was my vaccine 😉 worst part was body aches! All back to normal now 😁",
          "@jordanbpeterson @Ravarora1 According to Reuters, studies showed myocarditis at a rate of 1 case out of every 23,800 individuals receiving Moderna vaccine, or about 42 cases per million. U.S. National Library of Medicine says its 450 per million for young males who contract COVID-19. https://t.co/6fQTGBdo5Q",
          "@th_arod @kaoconnor I am 68 years old with multiple comorbidities and got Covid. I am triple vaxxed and avoided the hospital and the morgue. Yes I thank the vaccine makers for not making covid a death sentence for me.",
          "@freak154267 @Sabrinabuizza @vpecresse @EmmanuelMacron @JLMelenchon Mais pourquoi vous préféreriez qu’ils soient vaccinés, puisque ça ne changerait rien sur la transmission du virus ? Et que de base, s’ils sont en bonne santé ils ne risquent rien qu’un nez qui coule ou un petit mal de tête avec ce Covid",
          "Never take investment advice from anyone who is afraid of both #COVID vaccines and nuclear power. Do trick them into gambling away their money.",
          "@AmutorM @MissAppB @CarmelSepuloni these is a random persons anecdote. myocarditis is significantly more likely after covid infection than any covid vaccination. the vaccine can cause myocarditis for the same reasons the virus can. it's a product of the immune response to covid-19.",
          "@finnegansmum @s_algorithm @TaylorEaland @badvaers You didn't cite that the risk was higher from vaccines than from Covid. Does your article say that?",
          "AP FACT CHECK: Trump seeds race animus with COVID falsehood\r\nThe former president made false and racist claims that white people were being denied the vaccine due to their race.\r\nTrump is Racist bigot. \r\n\r\nhttps://t.co/DlcAUNtwjC https://t.co/DIL4RGzXJt",
          "Adult-onset Still's Disease after BNT162b2 mRNA COVID-19 Vaccine.\r\n\r\n36 year old female- Pfizer BNT162B2/TOZINAMERAN \r\n\r\nhttps://t.co/shGEhTf9xy",
          "@e_galv you can look at numbers. With each strain vaccines have been less and less effective at letting you catch Covid. But what's been consistent is hospitalizations and deaths among vaccinated. Less for sure but still much less than unvaccinated",
          "@worth_ask @Jacob_Frey @MayorCarter @GovTimWalz If @Jacob_Frey and @MayorCarter were actually trying to reduce the spread of covid, then their vaccine mandate would be a puzzling choice. But reducing covid is not their goal.\r\n\r\nMaking citizens have passports is the goal, and covid is just a way to pretend there is a reason.",
          "@DarrenWalsh27 @CiaranK03397846 @daveirl I only know what's going on in UK hospitals. I'm explaining that what I know is compatible with what you're telling me about Irish hospitals, particularly when \"incidental COVID\" includes \"COVID aggravating the primary complaint, also prevented by COVID vaccines\".",
          "@_LawyerByDay_ Assuming the vaccine performs as intended/promised...which in COVID case has been a moving target and government has lied to the people from day 1",
          "@zeetubes @sammy44231 @mcfunny @DeckardJodi @ogilville1 @doritmi @SallyJiggles @SeamusMacSuibh1 @Willard1951 @richykirsh @JonathanHannah @tomsirolimus @kath2cats @PLHartungRN @skepticalprune @Fannyi5 @jallen1315 @45Kerri @BtotheC67 @JimeeLiberty @provaxtexan @volpiranyas @bibbydebob @doom37455413 @SkepticalMutant @raouldukeerik @J_EmpyreanGoals @TonyBaduy @MdRisette @andylumm @GotAntibods @IdunsDaughter @Alphae1978 @AbsoluteGnosis @MatthewNewell67 @ecoB85 @paco7320 @MeddlinMegs @RedSoxMVP @hubie_greiner @prog_r0k @DatGnarlyOldGuy @SergioVengeance @JRJHealey @_DrCJM_ @Awithonelison @sailor_man_dan @Monstercoyliar @tenebra99 @swedishchf \"is that death rates are up 40% over what they were pre-pandemic\"\r\n\r\nSo the deaths are from\r\n\r\n(1) the covid pandemic [my explanation]\r\n(2) the lockdowns [Zee]\r\n(3) the vaccine introduced a year+ into the pandemic [Zee]\r\n(4) Sith Force Chokeholds.",
          "Sup,local cluster! Eating eggtarts is a essential routine of daily lives in order to not go crazy during covid time, My owner once told me a story:  Sam, who is a  doctor, they  recognised the source of the outbreak, and they  invented the vaccine",
          "Pinker discusses how a species that developed vaccines for Covid 19 in less than a year produces so much fake news, medical quackery, and conspiracy. Listen to this engaging book to better understand how to be more rational.\r\n\r\n\r\nRationality: What It Is… https://t.co/vshFEeutY8 https://t.co/mmAxgb6nK1",
          "@DeckardJodi @zeetubes @kath2cats @richykirsh @AndrewLazarus4 @ogilville1 @doritmi @sammy44231 @SallyJiggles @SeamusMacSuibh1 @Willard1951 @JonathanHannah @tomsirolimus @PLHartungRN @skepticalprune @Fannyi5 @jallen1315 @45Kerri @mcfunny @BtotheC67 @JimeeLiberty @provaxtexan @volpiranyas @bibbydebob @doom37455413 @SkepticalMutant @raouldukeerik @J_EmpyreanGoals @TonyBaduy @MdRisette @andylumm @GotAntibods @IdunsDaughter @Alphae1978 @AbsoluteGnosis @MatthewNewell67 @ecoB85 @paco7320 @MeddlinMegs @RedSoxMVP @hubie_greiner @prog_r0k @DatGnarlyOldGuy @SergioVengeance @JRJHealey @_DrCJM_ @Awithonelison @sailor_man_dan @tenebra99 @swedishchf Thalidomide huh.\r\n\r\nWhat a completely wrong, pointless, silly analogy.\r\n\r\nThalidomide is WHY we have trials and supervision systems. The ones that have worked for Covid-19 vaccines &amp; demonstrated them (particularly the mRNA vaccines) to be incredibly safe. \r\n\r\nPlease try learning.",
          "@HSchmerz7 @morningbrah We also know don’t know the full risk of contracting COVID19 but most research indicates that the long term risk from catching COVID is higher than from the vaccine.",
          "BCG, HEP B both mandatory prior to NHS employment. Why are staff really so disgruntled about the covid vaccine? 🤷‍♂️ https://t.co/p1ziSXezzH",
          "@P_McCulloughMD how can I help my 22 yo daughter avoid taking a booster required by her university? She had covid last April between her two required vaccines and then again the first of this January.",
          "\"the past month has shown us we cannot live with unmitigated Covid-19. Vaccinations will not be enough. We need a ventilation 7 vaccine-plus strategy to avoid the disruptive epidemic cycle, to protect health &amp; economy, &amp; to regain a semblance of the life we all want\" Contrast⬇️ https://t.co/28ej1Ccwyr https://t.co/k640X29GNg",
          "Halting Progress and Happy Accidents: How mRNA Vaccines Were Made. The Covid vaccines manufactured by Pfizer-BioNTech and Moderna drew upon long-buried discoveries made in the hopes of ending past epidemics. Fascinating piece by @ginakolata @benjmueller https://t.co/OgUAQsXKup",
          "January 10, 2022\r\nCDC Director Rochelle Walensky said that #CovidVaccine is not effective at preventing transmission of the virus.\r\n\r\n#sundayvibes https://t.co/f8W7pHoK96 https://t.co/3EBQQ10SLx",
          "Three year old separated from her family over covid vaccine disagreement. https://t.co/ds9Q1pSMUr",
          "Three year old separated from her family over covid vaccine disagreement. https://t.co/vHUdzvL8JU",
          "Three year old separated from her family over covid vaccine disagreement. https://t.co/54nk50ABRU",
          "@nazirafzal @UkTruth2020 Heyup, is she talking about the PM? The one that thinks a week in hiding, will fool us all? The same one who's \"family member\" has Covid.? The same one who partied before we had a vaccine, he was that worried about Covid?",
          "I gotta say, I'm a little impressed that we're now busting out Marburg as part of the nonsense about COVID vaccines. That means they had to have spent at least more than 45 min on that Google phd https://t.co/N5s1cgb7iA",
          "@TelGlobalHealth @devisridhar Mate get fucked, vaccinated people are still getting covid because the vaccine doesn't work. The unvaccinated aren't the problem, they make their choice because they are free to think and make their own decisions and not follow the majority... Geor Orwe 1984 on steroids is coming",
          "there are more people with white nike air force 1s than the Covid-19 vaccine",
          "@RiskManager16 @peatmoss99 @thomasg_grizzle I asked you to justify your stance and you can't even rub two brain cells together and put forth an half-original thought?  I ask again, how is a a post about COVID VACCINE MANDATES not about the VACCINE???",
          "@iomega76 @veroniquegenest @LCI @BFMTV Pas de chance j'ai eu le Covid le 10 janvier j'ai eu mal à la tête et des courbatures 2 jours. Ma femme double vacciné et resté au lit 6 jours. J'ai vu merci au revoir",
          "Vaccines Not Durable, Omicron Might Turn COVID-19 Endemic: Bill Gates\r\nhttps://t.co/fpQywRqCY3",
          "Why are vaxed folk still acting as though unvaxed folk are a threat to them when the vaccines do not protect you from catching or transmitting this particular variant of Covid. EVERYONE will be exposed to Omicron, can we stop treating people like shit now and get on with it?",
          "it the time of globalist peace\r\nweapons will not be sold...\r\n\r\ndrugs and vasccines will\r\n\r\nthe new F15 is the #CovidVaccine"
         ],
         "legendgroup": "",
         "marker": {
          "color": [
           1,
           7,
           15,
           4,
           18,
           17,
           2,
           17,
           2,
           17,
           5,
           1,
           8,
           3,
           1,
           17,
           10,
           15,
           14,
           12,
           3,
           0,
           8,
           14,
           3,
           8,
           9,
           13,
           1,
           1,
           7,
           7,
           9,
           19,
           4,
           18,
           8,
           5,
           5,
           1,
           4,
           14,
           14,
           8,
           10,
           15,
           1,
           13,
           15,
           7,
           13,
           10,
           15,
           10,
           15,
           4,
           1,
           10,
           18,
           11,
           8,
           16,
           17,
           12,
           10,
           7,
           8,
           7,
           3,
           17,
           8,
           17,
           0,
           5,
           1,
           17,
           12,
           17,
           17,
           5,
           18,
           10,
           1,
           14,
           15,
           2,
           2,
           18,
           6,
           6,
           6,
           9,
           19,
           17,
           18,
           17,
           3,
           2,
           17,
           17
          ],
          "coloraxis": "coloraxis",
          "symbol": "circle"
         },
         "mode": "markers",
         "name": "",
         "orientation": "v",
         "showlegend": false,
         "textfont": {
          "size": 22
         },
         "type": "scatter",
         "x": [
          2.2875185012817383,
          2.1719400882720947,
          3.470879316329956,
          0.264058381319046,
          0.8433551788330078,
          -0.09211798012256622,
          2.9511120319366455,
          1.0800658464431763,
          2.6546425819396973,
          1.632582426071167,
          2.8040969371795654,
          2.0540382862091064,
          3.3631598949432373,
          0.7881433367729187,
          2.3620755672454834,
          0.007481083273887634,
          2.6850857734680176,
          3.7358264923095703,
          0.32426756620407104,
          2.9713637828826904,
          0.38266080617904663,
          0.9658905267715454,
          3.3919003009796143,
          1.2975409030914307,
          0.47983190417289734,
          3.806866407394409,
          1.7066038846969604,
          2.8878533840179443,
          1.7872278690338135,
          2.4161570072174072,
          3.2488090991973877,
          2.9920310974121094,
          0.9206708073616028,
          2.484304666519165,
          0.09756908565759659,
          1.8061975240707397,
          3.4888265132904053,
          2.0749640464782715,
          2.618105888366699,
          2.526634931564331,
          0.43836405873298645,
          0.6872103810310364,
          0.4647177457809448,
          3.7303993701934814,
          2.018083095550537,
          2.5461204051971436,
          3.082007884979248,
          2.3686044216156006,
          3.360459089279175,
          3.0498206615448,
          2.450864791870117,
          3.155489921569824,
          3.662078857421875,
          3.115250587463379,
          3.2839744091033936,
          0.19940684735774994,
          1.834933876991272,
          2.4309394359588623,
          2.009648084640503,
          1.6423019170761108,
          3.3318068981170654,
          -0.08878941833972931,
          0.8430901169776917,
          1.08171546459198,
          2.278352975845337,
          3.591479778289795,
          3.642437696456909,
          3.037532091140747,
          0.7326952219009399,
          1.4389036893844604,
          3.615169048309326,
          1.5432653427124023,
          0.47954246401786804,
          3.73222017288208,
          1.7274497747421265,
          0.12402716279029846,
          1.3009194135665894,
          1.3563140630722046,
          1.429240107536316,
          2.9439690113067627,
          1.7165815830230713,
          1.9615386724472046,
          2.5044713020324707,
          0.609612226486206,
          4.019843101501465,
          1.9277515411376953,
          2.6578989028930664,
          1.8145554065704346,
          4.296958923339844,
          4.194079875946045,
          4.146157741546631,
          1.5185869932174683,
          2.885075092315674,
          0.9169653058052063,
          1.221977710723877,
          0.034739281982183456,
          0.5523573756217957,
          2.195802688598633,
          0.6669374704360962,
          1.2609989643096924
         ],
         "xaxis": "x",
         "y": [
          7.886953830718994,
          7.62980318069458,
          5.298975467681885,
          4.5688886642456055,
          4.792962074279785,
          5.011859893798828,
          5.009427547454834,
          6.041457176208496,
          4.53179407119751,
          4.860558986663818,
          6.701319694519043,
          8.180533409118652,
          8.347061157226562,
          7.472796440124512,
          7.821863174438477,
          5.135970592498779,
          6.761190414428711,
          6.101377010345459,
          5.255965709686279,
          5.975025177001953,
          7.258752822875977,
          5.117429733276367,
          7.900789260864258,
          4.867312908172607,
          6.946475505828857,
          6.909570693969727,
          4.343078136444092,
          5.240540504455566,
          7.82847261428833,
          7.311697006225586,
          6.874705791473389,
          7.455109119415283,
          4.488768100738525,
          4.633535861968994,
          4.691964626312256,
          5.576399326324463,
          8.253701210021973,
          7.080964088439941,
          6.075262069702148,
          8.035637855529785,
          4.38314151763916,
          5.459555625915527,
          5.849114894866943,
          7.809699058532715,
          5.948251724243164,
          5.6046037673950195,
          8.348709106445312,
          5.48355770111084,
          5.170779705047607,
          7.341060638427734,
          5.171740531921387,
          6.259069919586182,
          5.854176044464111,
          6.154846668243408,
          5.686894416809082,
          4.5272440910339355,
          7.9317307472229,
          6.294422149658203,
          5.787246227264404,
          6.757737636566162,
          8.020829200744629,
          5.717342376708984,
          5.874899387359619,
          6.5749430656433105,
          6.637639045715332,
          6.750371932983398,
          7.970559597015381,
          6.628203392028809,
          7.391294479370117,
          5.794181823730469,
          8.115472793579102,
          7.161492824554443,
          5.0572099685668945,
          7.236246585845947,
          7.470731735229492,
          6.114246368408203,
          7.307541847229004,
          6.221479892730713,
          6.8403472900390625,
          5.494284152984619,
          5.468286991119385,
          6.413225173950195,
          7.475943088531494,
          6.251069068908691,
          6.360980987548828,
          5.0528082847595215,
          5.002018928527832,
          6.248438358306885,
          5.449763298034668,
          5.60590934753418,
          5.655890464782715,
          4.5330047607421875,
          4.714077949523926,
          6.271491050720215,
          5.651371955871582,
          5.443464756011963,
          7.461658477783203,
          4.932526588439941,
          6.139260768890381,
          5.558145046234131
         ],
         "yaxis": "y"
        }
       ],
       "layout": {
        "coloraxis": {
         "colorbar": {
          "title": {
           "text": "clusters"
          }
         },
         "colorscale": [
          [
           0,
           "#0d0887"
          ],
          [
           0.1111111111111111,
           "#46039f"
          ],
          [
           0.2222222222222222,
           "#7201a8"
          ],
          [
           0.3333333333333333,
           "#9c179e"
          ],
          [
           0.4444444444444444,
           "#bd3786"
          ],
          [
           0.5555555555555556,
           "#d8576b"
          ],
          [
           0.6666666666666666,
           "#ed7953"
          ],
          [
           0.7777777777777778,
           "#fb9f3a"
          ],
          [
           0.8888888888888888,
           "#fdca26"
          ],
          [
           1,
           "#f0f921"
          ]
         ]
        },
        "legend": {
         "tracegroupgap": 0
        },
        "margin": {
         "t": 60
        },
        "template": {
         "data": {
          "bar": [
           {
            "error_x": {
             "color": "#2a3f5f"
            },
            "error_y": {
             "color": "#2a3f5f"
            },
            "marker": {
             "line": {
              "color": "#E5ECF6",
              "width": 0.5
             }
            },
            "type": "bar"
           }
          ],
          "barpolar": [
           {
            "marker": {
             "line": {
              "color": "#E5ECF6",
              "width": 0.5
             }
            },
            "type": "barpolar"
           }
          ],
          "carpet": [
           {
            "aaxis": {
             "endlinecolor": "#2a3f5f",
             "gridcolor": "white",
             "linecolor": "white",
             "minorgridcolor": "white",
             "startlinecolor": "#2a3f5f"
            },
            "baxis": {
             "endlinecolor": "#2a3f5f",
             "gridcolor": "white",
             "linecolor": "white",
             "minorgridcolor": "white",
             "startlinecolor": "#2a3f5f"
            },
            "type": "carpet"
           }
          ],
          "choropleth": [
           {
            "colorbar": {
             "outlinewidth": 0,
             "ticks": ""
            },
            "type": "choropleth"
           }
          ],
          "contour": [
           {
            "colorbar": {
             "outlinewidth": 0,
             "ticks": ""
            },
            "colorscale": [
             [
              0,
              "#0d0887"
             ],
             [
              0.1111111111111111,
              "#46039f"
             ],
             [
              0.2222222222222222,
              "#7201a8"
             ],
             [
              0.3333333333333333,
              "#9c179e"
             ],
             [
              0.4444444444444444,
              "#bd3786"
             ],
             [
              0.5555555555555556,
              "#d8576b"
             ],
             [
              0.6666666666666666,
              "#ed7953"
             ],
             [
              0.7777777777777778,
              "#fb9f3a"
             ],
             [
              0.8888888888888888,
              "#fdca26"
             ],
             [
              1,
              "#f0f921"
             ]
            ],
            "type": "contour"
           }
          ],
          "contourcarpet": [
           {
            "colorbar": {
             "outlinewidth": 0,
             "ticks": ""
            },
            "type": "contourcarpet"
           }
          ],
          "heatmap": [
           {
            "colorbar": {
             "outlinewidth": 0,
             "ticks": ""
            },
            "colorscale": [
             [
              0,
              "#0d0887"
             ],
             [
              0.1111111111111111,
              "#46039f"
             ],
             [
              0.2222222222222222,
              "#7201a8"
             ],
             [
              0.3333333333333333,
              "#9c179e"
             ],
             [
              0.4444444444444444,
              "#bd3786"
             ],
             [
              0.5555555555555556,
              "#d8576b"
             ],
             [
              0.6666666666666666,
              "#ed7953"
             ],
             [
              0.7777777777777778,
              "#fb9f3a"
             ],
             [
              0.8888888888888888,
              "#fdca26"
             ],
             [
              1,
              "#f0f921"
             ]
            ],
            "type": "heatmap"
           }
          ],
          "heatmapgl": [
           {
            "colorbar": {
             "outlinewidth": 0,
             "ticks": ""
            },
            "colorscale": [
             [
              0,
              "#0d0887"
             ],
             [
              0.1111111111111111,
              "#46039f"
             ],
             [
              0.2222222222222222,
              "#7201a8"
             ],
             [
              0.3333333333333333,
              "#9c179e"
             ],
             [
              0.4444444444444444,
              "#bd3786"
             ],
             [
              0.5555555555555556,
              "#d8576b"
             ],
             [
              0.6666666666666666,
              "#ed7953"
             ],
             [
              0.7777777777777778,
              "#fb9f3a"
             ],
             [
              0.8888888888888888,
              "#fdca26"
             ],
             [
              1,
              "#f0f921"
             ]
            ],
            "type": "heatmapgl"
           }
          ],
          "histogram": [
           {
            "marker": {
             "colorbar": {
              "outlinewidth": 0,
              "ticks": ""
             }
            },
            "type": "histogram"
           }
          ],
          "histogram2d": [
           {
            "colorbar": {
             "outlinewidth": 0,
             "ticks": ""
            },
            "colorscale": [
             [
              0,
              "#0d0887"
             ],
             [
              0.1111111111111111,
              "#46039f"
             ],
             [
              0.2222222222222222,
              "#7201a8"
             ],
             [
              0.3333333333333333,
              "#9c179e"
             ],
             [
              0.4444444444444444,
              "#bd3786"
             ],
             [
              0.5555555555555556,
              "#d8576b"
             ],
             [
              0.6666666666666666,
              "#ed7953"
             ],
             [
              0.7777777777777778,
              "#fb9f3a"
             ],
             [
              0.8888888888888888,
              "#fdca26"
             ],
             [
              1,
              "#f0f921"
             ]
            ],
            "type": "histogram2d"
           }
          ],
          "histogram2dcontour": [
           {
            "colorbar": {
             "outlinewidth": 0,
             "ticks": ""
            },
            "colorscale": [
             [
              0,
              "#0d0887"
             ],
             [
              0.1111111111111111,
              "#46039f"
             ],
             [
              0.2222222222222222,
              "#7201a8"
             ],
             [
              0.3333333333333333,
              "#9c179e"
             ],
             [
              0.4444444444444444,
              "#bd3786"
             ],
             [
              0.5555555555555556,
              "#d8576b"
             ],
             [
              0.6666666666666666,
              "#ed7953"
             ],
             [
              0.7777777777777778,
              "#fb9f3a"
             ],
             [
              0.8888888888888888,
              "#fdca26"
             ],
             [
              1,
              "#f0f921"
             ]
            ],
            "type": "histogram2dcontour"
           }
          ],
          "mesh3d": [
           {
            "colorbar": {
             "outlinewidth": 0,
             "ticks": ""
            },
            "type": "mesh3d"
           }
          ],
          "parcoords": [
           {
            "line": {
             "colorbar": {
              "outlinewidth": 0,
              "ticks": ""
             }
            },
            "type": "parcoords"
           }
          ],
          "pie": [
           {
            "automargin": true,
            "type": "pie"
           }
          ],
          "scatter": [
           {
            "marker": {
             "colorbar": {
              "outlinewidth": 0,
              "ticks": ""
             }
            },
            "type": "scatter"
           }
          ],
          "scatter3d": [
           {
            "line": {
             "colorbar": {
              "outlinewidth": 0,
              "ticks": ""
             }
            },
            "marker": {
             "colorbar": {
              "outlinewidth": 0,
              "ticks": ""
             }
            },
            "type": "scatter3d"
           }
          ],
          "scattercarpet": [
           {
            "marker": {
             "colorbar": {
              "outlinewidth": 0,
              "ticks": ""
             }
            },
            "type": "scattercarpet"
           }
          ],
          "scattergeo": [
           {
            "marker": {
             "colorbar": {
              "outlinewidth": 0,
              "ticks": ""
             }
            },
            "type": "scattergeo"
           }
          ],
          "scattergl": [
           {
            "marker": {
             "colorbar": {
              "outlinewidth": 0,
              "ticks": ""
             }
            },
            "type": "scattergl"
           }
          ],
          "scattermapbox": [
           {
            "marker": {
             "colorbar": {
              "outlinewidth": 0,
              "ticks": ""
             }
            },
            "type": "scattermapbox"
           }
          ],
          "scatterpolar": [
           {
            "marker": {
             "colorbar": {
              "outlinewidth": 0,
              "ticks": ""
             }
            },
            "type": "scatterpolar"
           }
          ],
          "scatterpolargl": [
           {
            "marker": {
             "colorbar": {
              "outlinewidth": 0,
              "ticks": ""
             }
            },
            "type": "scatterpolargl"
           }
          ],
          "scatterternary": [
           {
            "marker": {
             "colorbar": {
              "outlinewidth": 0,
              "ticks": ""
             }
            },
            "type": "scatterternary"
           }
          ],
          "surface": [
           {
            "colorbar": {
             "outlinewidth": 0,
             "ticks": ""
            },
            "colorscale": [
             [
              0,
              "#0d0887"
             ],
             [
              0.1111111111111111,
              "#46039f"
             ],
             [
              0.2222222222222222,
              "#7201a8"
             ],
             [
              0.3333333333333333,
              "#9c179e"
             ],
             [
              0.4444444444444444,
              "#bd3786"
             ],
             [
              0.5555555555555556,
              "#d8576b"
             ],
             [
              0.6666666666666666,
              "#ed7953"
             ],
             [
              0.7777777777777778,
              "#fb9f3a"
             ],
             [
              0.8888888888888888,
              "#fdca26"
             ],
             [
              1,
              "#f0f921"
             ]
            ],
            "type": "surface"
           }
          ],
          "table": [
           {
            "cells": {
             "fill": {
              "color": "#EBF0F8"
             },
             "line": {
              "color": "white"
             }
            },
            "header": {
             "fill": {
              "color": "#C8D4E3"
             },
             "line": {
              "color": "white"
             }
            },
            "type": "table"
           }
          ]
         },
         "layout": {
          "annotationdefaults": {
           "arrowcolor": "#2a3f5f",
           "arrowhead": 0,
           "arrowwidth": 1
          },
          "coloraxis": {
           "colorbar": {
            "outlinewidth": 0,
            "ticks": ""
           }
          },
          "colorscale": {
           "diverging": [
            [
             0,
             "#8e0152"
            ],
            [
             0.1,
             "#c51b7d"
            ],
            [
             0.2,
             "#de77ae"
            ],
            [
             0.3,
             "#f1b6da"
            ],
            [
             0.4,
             "#fde0ef"
            ],
            [
             0.5,
             "#f7f7f7"
            ],
            [
             0.6,
             "#e6f5d0"
            ],
            [
             0.7,
             "#b8e186"
            ],
            [
             0.8,
             "#7fbc41"
            ],
            [
             0.9,
             "#4d9221"
            ],
            [
             1,
             "#276419"
            ]
           ],
           "sequential": [
            [
             0,
             "#0d0887"
            ],
            [
             0.1111111111111111,
             "#46039f"
            ],
            [
             0.2222222222222222,
             "#7201a8"
            ],
            [
             0.3333333333333333,
             "#9c179e"
            ],
            [
             0.4444444444444444,
             "#bd3786"
            ],
            [
             0.5555555555555556,
             "#d8576b"
            ],
            [
             0.6666666666666666,
             "#ed7953"
            ],
            [
             0.7777777777777778,
             "#fb9f3a"
            ],
            [
             0.8888888888888888,
             "#fdca26"
            ],
            [
             1,
             "#f0f921"
            ]
           ],
           "sequentialminus": [
            [
             0,
             "#0d0887"
            ],
            [
             0.1111111111111111,
             "#46039f"
            ],
            [
             0.2222222222222222,
             "#7201a8"
            ],
            [
             0.3333333333333333,
             "#9c179e"
            ],
            [
             0.4444444444444444,
             "#bd3786"
            ],
            [
             0.5555555555555556,
             "#d8576b"
            ],
            [
             0.6666666666666666,
             "#ed7953"
            ],
            [
             0.7777777777777778,
             "#fb9f3a"
            ],
            [
             0.8888888888888888,
             "#fdca26"
            ],
            [
             1,
             "#f0f921"
            ]
           ]
          },
          "colorway": [
           "#636efa",
           "#EF553B",
           "#00cc96",
           "#ab63fa",
           "#FFA15A",
           "#19d3f3",
           "#FF6692",
           "#B6E880",
           "#FF97FF",
           "#FECB52"
          ],
          "font": {
           "color": "#2a3f5f"
          },
          "geo": {
           "bgcolor": "white",
           "lakecolor": "white",
           "landcolor": "#E5ECF6",
           "showlakes": true,
           "showland": true,
           "subunitcolor": "white"
          },
          "hoverlabel": {
           "align": "left"
          },
          "hovermode": "closest",
          "mapbox": {
           "style": "light"
          },
          "paper_bgcolor": "white",
          "plot_bgcolor": "#E5ECF6",
          "polar": {
           "angularaxis": {
            "gridcolor": "white",
            "linecolor": "white",
            "ticks": ""
           },
           "bgcolor": "#E5ECF6",
           "radialaxis": {
            "gridcolor": "white",
            "linecolor": "white",
            "ticks": ""
           }
          },
          "scene": {
           "xaxis": {
            "backgroundcolor": "#E5ECF6",
            "gridcolor": "white",
            "gridwidth": 2,
            "linecolor": "white",
            "showbackground": true,
            "ticks": "",
            "zerolinecolor": "white"
           },
           "yaxis": {
            "backgroundcolor": "#E5ECF6",
            "gridcolor": "white",
            "gridwidth": 2,
            "linecolor": "white",
            "showbackground": true,
            "ticks": "",
            "zerolinecolor": "white"
           },
           "zaxis": {
            "backgroundcolor": "#E5ECF6",
            "gridcolor": "white",
            "gridwidth": 2,
            "linecolor": "white",
            "showbackground": true,
            "ticks": "",
            "zerolinecolor": "white"
           }
          },
          "shapedefaults": {
           "line": {
            "color": "#2a3f5f"
           }
          },
          "ternary": {
           "aaxis": {
            "gridcolor": "white",
            "linecolor": "white",
            "ticks": ""
           },
           "baxis": {
            "gridcolor": "white",
            "linecolor": "white",
            "ticks": ""
           },
           "bgcolor": "#E5ECF6",
           "caxis": {
            "gridcolor": "white",
            "linecolor": "white",
            "ticks": ""
           }
          },
          "title": {
           "x": 0.05
          },
          "xaxis": {
           "automargin": true,
           "gridcolor": "white",
           "linecolor": "white",
           "ticks": "",
           "title": {
            "standoff": 15
           },
           "zerolinecolor": "white",
           "zerolinewidth": 2
          },
          "yaxis": {
           "automargin": true,
           "gridcolor": "white",
           "linecolor": "white",
           "ticks": "",
           "title": {
            "standoff": 15
           },
           "zerolinecolor": "white",
           "zerolinewidth": 2
          }
         }
        },
        "xaxis": {
         "anchor": "y",
         "domain": [
          0,
          1
         ],
         "title": {
          "text": "x"
         }
        },
        "yaxis": {
         "anchor": "x",
         "domain": [
          0,
          1
         ],
         "title": {
          "text": "y"
         }
        }
       }
      }
     },
     "metadata": {},
     "output_type": "display_data"
    },
    {
     "data": {
      "text/plain": [
       "<Figure size 1008x576 with 0 Axes>"
      ]
     },
     "metadata": {},
     "output_type": "display_data"
    }
   ],
   "source": [
    "from sklearn.decomposition import PCA\n",
    "import matplotlib.pyplot as plt\n",
    "import pandas as pd\n",
    "\n",
    "#load encoded files\n",
    "df = pd.read_parquet('df_2_clustered.parquet')\n",
    "\n",
    "# pca = PCA(n_components=2, svd_solver='auto')\n",
    "# pca_result = pca.fit_transform(df['text_vector_'].values.tolist())\n",
    "# #display(df)\n",
    "\n",
    "import umap\n",
    "\n",
    "umap_embeddings = umap.UMAP(\n",
    "    n_neighbors=22, \n",
    "    n_components=2, \n",
    "    metric='cosine'\n",
    ").fit_transform(df['text_vector_'].values.tolist())\n",
    "\n",
    "fig = plt.figure(figsize=(14, 8))\n",
    "x = list(umap_embeddings[:,0])\n",
    "y = list(umap_embeddings[:,1])\n",
    "# x and y given as array_like objects\n",
    "\n",
    "import plotly.express as px\n",
    "fig = px.scatter(df, x=x, y=y, hover_name=df['Text'], color=df['clusters'])\n",
    "fig.update_traces(textfont_size=22)\n",
    "fig.show()"
   ]
  }
 ],
 "metadata": {
  "kernelspec": {
   "display_name": "Python 3.9.13 64-bit",
   "language": "python",
   "name": "python3"
  },
  "language_info": {
   "codemirror_mode": {
    "name": "ipython",
    "version": 3
   },
   "file_extension": ".py",
   "mimetype": "text/x-python",
   "name": "python",
   "nbconvert_exporter": "python",
   "pygments_lexer": "ipython3",
   "version": "3.9.13"
  },
  "orig_nbformat": 4,
  "vscode": {
   "interpreter": {
    "hash": "85f9d140c5a239dea34f0eb102a89114dd1d2d0a202ba2426144d95087bae6fb"
   }
  }
 },
 "nbformat": 4,
 "nbformat_minor": 2
}
