{
 "cells": [
  {
   "cell_type": "markdown",
   "metadata": {},
   "source": [
    "Step 1: Import the library"
   ]
  },
  {
   "cell_type": "code",
   "execution_count": 3,
   "metadata": {},
   "outputs": [],
   "source": [
    "import os\n",
    "\n",
    "PATH = 'C:/Users/kaypa/OneDrive/Documents/GitHub/Personal_Project/220615_topic_extractor'\n",
    "\n",
    "#import rest of the libraries to execute this .py\n",
    "import numpy as np\n",
    "from sklearn.cluster import KMeans\n",
    "import pandas as pd"
   ]
  },
  {
   "cell_type": "markdown",
   "metadata": {},
   "source": [
    "Step 2: Load Clustering Model"
   ]
  },
  {
   "cell_type": "code",
   "execution_count": 4,
   "metadata": {},
   "outputs": [],
   "source": [
    "#perfrom clustering on the vectors\n",
    "\n",
    "kmeans = KMeans(n_clusters=180, random_state=0) #load model, number of clusters\n",
    "kmeans.fit(df['text_vector_'].values.tolist()) #perform clustering\n",
    "\n",
    "#creates a new column assigning each samples (text) to a cluster\n",
    "df['clusters']=kmeans.labels_\n",
    "df"
   ]
  }
 ],
 "metadata": {
  "kernelspec": {
   "display_name": "Python 3.9.13 64-bit",
   "language": "python",
   "name": "python3"
  },
  "language_info": {
   "codemirror_mode": {
    "name": "ipython",
    "version": 3
   },
   "file_extension": ".py",
   "mimetype": "text/x-python",
   "name": "python",
   "nbconvert_exporter": "python",
   "pygments_lexer": "ipython3",
   "version": "3.9.13"
  },
  "orig_nbformat": 4,
  "vscode": {
   "interpreter": {
    "hash": "85f9d140c5a239dea34f0eb102a89114dd1d2d0a202ba2426144d95087bae6fb"
   }
  }
 },
 "nbformat": 4,
 "nbformat_minor": 2
}
